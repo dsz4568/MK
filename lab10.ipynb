{
 "cells": [
  {
   "cell_type": "code",
   "execution_count": 3,
   "id": "3cabc217-a814-4191-a22a-65d158c992a5",
   "metadata": {},
   "outputs": [
    {
     "name": "stdout",
     "output_type": "stream",
     "text": [
      "Unikalne znaki: 28\n",
      "Długość tekstu: 164\n",
      "Liczba sekwencji: 134\n"
     ]
    },
    {
     "data": {
      "text/html": [
       "<pre style=\"white-space:pre;overflow-x:auto;line-height:normal;font-family:Menlo,'DejaVu Sans Mono',consolas,'Courier New',monospace\"><span style=\"font-weight: bold\">Model: \"sequential_1\"</span>\n",
       "</pre>\n"
      ],
      "text/plain": [
       "\u001b[1mModel: \"sequential_1\"\u001b[0m\n"
      ]
     },
     "metadata": {},
     "output_type": "display_data"
    },
    {
     "data": {
      "text/html": [
       "<pre style=\"white-space:pre;overflow-x:auto;line-height:normal;font-family:Menlo,'DejaVu Sans Mono',consolas,'Courier New',monospace\">┏━━━━━━━━━━━━━━━━━━━━━━━━━━━━━━━━━┳━━━━━━━━━━━━━━━━━━━━━━━━┳━━━━━━━━━━━━━━━┓\n",
       "┃<span style=\"font-weight: bold\"> Layer (type)                    </span>┃<span style=\"font-weight: bold\"> Output Shape           </span>┃<span style=\"font-weight: bold\">       Param # </span>┃\n",
       "┡━━━━━━━━━━━━━━━━━━━━━━━━━━━━━━━━━╇━━━━━━━━━━━━━━━━━━━━━━━━╇━━━━━━━━━━━━━━━┩\n",
       "│ embedding_1 (<span style=\"color: #0087ff; text-decoration-color: #0087ff\">Embedding</span>)         │ ?                      │   <span style=\"color: #00af00; text-decoration-color: #00af00\">0</span> (unbuilt) │\n",
       "├─────────────────────────────────┼────────────────────────┼───────────────┤\n",
       "│ lstm_1 (<span style=\"color: #0087ff; text-decoration-color: #0087ff\">LSTM</span>)                   │ ?                      │   <span style=\"color: #00af00; text-decoration-color: #00af00\">0</span> (unbuilt) │\n",
       "├─────────────────────────────────┼────────────────────────┼───────────────┤\n",
       "│ lstm_2 (<span style=\"color: #0087ff; text-decoration-color: #0087ff\">LSTM</span>)                   │ ?                      │   <span style=\"color: #00af00; text-decoration-color: #00af00\">0</span> (unbuilt) │\n",
       "├─────────────────────────────────┼────────────────────────┼───────────────┤\n",
       "│ dense_1 (<span style=\"color: #0087ff; text-decoration-color: #0087ff\">Dense</span>)                 │ ?                      │   <span style=\"color: #00af00; text-decoration-color: #00af00\">0</span> (unbuilt) │\n",
       "└─────────────────────────────────┴────────────────────────┴───────────────┘\n",
       "</pre>\n"
      ],
      "text/plain": [
       "┏━━━━━━━━━━━━━━━━━━━━━━━━━━━━━━━━━┳━━━━━━━━━━━━━━━━━━━━━━━━┳━━━━━━━━━━━━━━━┓\n",
       "┃\u001b[1m \u001b[0m\u001b[1mLayer (type)                   \u001b[0m\u001b[1m \u001b[0m┃\u001b[1m \u001b[0m\u001b[1mOutput Shape          \u001b[0m\u001b[1m \u001b[0m┃\u001b[1m \u001b[0m\u001b[1m      Param #\u001b[0m\u001b[1m \u001b[0m┃\n",
       "┡━━━━━━━━━━━━━━━━━━━━━━━━━━━━━━━━━╇━━━━━━━━━━━━━━━━━━━━━━━━╇━━━━━━━━━━━━━━━┩\n",
       "│ embedding_1 (\u001b[38;5;33mEmbedding\u001b[0m)         │ ?                      │   \u001b[38;5;34m0\u001b[0m (unbuilt) │\n",
       "├─────────────────────────────────┼────────────────────────┼───────────────┤\n",
       "│ lstm_1 (\u001b[38;5;33mLSTM\u001b[0m)                   │ ?                      │   \u001b[38;5;34m0\u001b[0m (unbuilt) │\n",
       "├─────────────────────────────────┼────────────────────────┼───────────────┤\n",
       "│ lstm_2 (\u001b[38;5;33mLSTM\u001b[0m)                   │ ?                      │   \u001b[38;5;34m0\u001b[0m (unbuilt) │\n",
       "├─────────────────────────────────┼────────────────────────┼───────────────┤\n",
       "│ dense_1 (\u001b[38;5;33mDense\u001b[0m)                 │ ?                      │   \u001b[38;5;34m0\u001b[0m (unbuilt) │\n",
       "└─────────────────────────────────┴────────────────────────┴───────────────┘\n"
      ]
     },
     "metadata": {},
     "output_type": "display_data"
    },
    {
     "data": {
      "text/html": [
       "<pre style=\"white-space:pre;overflow-x:auto;line-height:normal;font-family:Menlo,'DejaVu Sans Mono',consolas,'Courier New',monospace\"><span style=\"font-weight: bold\"> Total params: </span><span style=\"color: #00af00; text-decoration-color: #00af00\">0</span> (0.00 B)\n",
       "</pre>\n"
      ],
      "text/plain": [
       "\u001b[1m Total params: \u001b[0m\u001b[38;5;34m0\u001b[0m (0.00 B)\n"
      ]
     },
     "metadata": {},
     "output_type": "display_data"
    },
    {
     "data": {
      "text/html": [
       "<pre style=\"white-space:pre;overflow-x:auto;line-height:normal;font-family:Menlo,'DejaVu Sans Mono',consolas,'Courier New',monospace\"><span style=\"font-weight: bold\"> Trainable params: </span><span style=\"color: #00af00; text-decoration-color: #00af00\">0</span> (0.00 B)\n",
       "</pre>\n"
      ],
      "text/plain": [
       "\u001b[1m Trainable params: \u001b[0m\u001b[38;5;34m0\u001b[0m (0.00 B)\n"
      ]
     },
     "metadata": {},
     "output_type": "display_data"
    },
    {
     "data": {
      "text/html": [
       "<pre style=\"white-space:pre;overflow-x:auto;line-height:normal;font-family:Menlo,'DejaVu Sans Mono',consolas,'Courier New',monospace\"><span style=\"font-weight: bold\"> Non-trainable params: </span><span style=\"color: #00af00; text-decoration-color: #00af00\">0</span> (0.00 B)\n",
       "</pre>\n"
      ],
      "text/plain": [
       "\u001b[1m Non-trainable params: \u001b[0m\u001b[38;5;34m0\u001b[0m (0.00 B)\n"
      ]
     },
     "metadata": {},
     "output_type": "display_data"
    },
    {
     "name": "stdout",
     "output_type": "stream",
     "text": [
      "Epoch 1/200\n",
      "\u001b[1m7/9\u001b[0m \u001b[32m━━━━━━━━━━━━━━━\u001b[0m\u001b[37m━━━━━\u001b[0m \u001b[1m0s\u001b[0m 27ms/step - accuracy: 0.0832 - loss: 3.3222 \n",
      "Osiągnięto docelową dokładność 0.1!\n",
      "\u001b[1m9/9\u001b[0m \u001b[32m━━━━━━━━━━━━━━━━━━━━\u001b[0m\u001b[37m\u001b[0m \u001b[1m4s\u001b[0m 29ms/step - accuracy: 0.0939 - loss: 3.3133\n",
      "\n",
      "Generowanie tekstu z seedem: 'As machines become'\n",
      "As machines becomeeeeeeeeeeeeeeeeeeeeeeeeeeeeeeeeeeeeeeeeeeeeeeeeeeeeeeeeeeeeeeeeeeeeeeeeeeeeeeeeeeeeeeeeeeeeeeeeeeeee\n",
      "\n",
      "Generowanie tekstu z seedem: 'tasks considered'\n",
      "tasks consideredeeeeeeeeeeeeeeeeeeeeeeeeeeeeeeeeeeeeeeeeeeeeeeeeeeeeeeeeeeeeeeeeeeeeeeeeeeeeeeeeeeeeeeeeeeeeeeeeeeee\n",
      "\n",
      "Generowanie tekstu z seedem: 'AI effect'\n",
      "AI effecteeeeeeeeeeeeeeeeeeeeeeeeeeeeeeeeeeeeeeeeeeeeeeeeeeeeeeeeeeeeeeeeeeeeeeeeeeeeeeeeeeeeeeeeeeeeeeeeeeee\n"
     ]
    },
    {
     "data": {
      "image/png": "[encoded data removed]",
      "text/plain": [
       "<Figure size 1200x500 with 2 Axes>"
      ]
     },
     "metadata": {},
     "output_type": "display_data"
    },
    {
     "name": "stdout",
     "output_type": "stream",
     "text": [
      "\n",
      "Końcowa dokładność: 0.1418\n",
      "Końcowa strata: 3.0493\n"
     ]
    }
   ],
   "source": [
    "### Ulepszona sieć LSTM do nauki tekstu\n",
    "# Celem jest osiągnięcie stabilnej dokładności powyżej 10%\n",
    "# Tekst: \"As machines become increasingly capable, tasks considered to require 'intelligence' are often removed from the definition of AI, a phenomenon known as the AI effect\"\n",
    "\n",
    "# %%\n",
    "import numpy as np\n",
    "from tensorflow.keras.models import Sequential\n",
    "from tensorflow.keras.layers import LSTM, Dense, Embedding\n",
    "from tensorflow.keras.utils import to_categorical\n",
    "from tensorflow.keras.callbacks import Callback, EarlyStopping\n",
    "\n",
    "# %%\n",
    "# Parametry\n",
    "TEXT = \"As machines become increasingly capable, tasks considered to require 'intelligence' are often removed from the definition of AI, a phenomenon known as the AI effect\"\n",
    "SEQ_LENGTH = 30  # Wydłużona sekwencja\n",
    "EMBEDDING_DIM = 32  # Zwiększony wymiar osadzania\n",
    "LSTM_UNITS = 128  # Więcej jednostek LSTM\n",
    "BATCH_SIZE = 16  # Mniejszy batch size\n",
    "EPOCHS = 200  # Więcej epok\n",
    "TARGET_ACCURACY = 0.1  # Docelowa dokładność\n",
    "\n",
    "# %%\n",
    "# Przygotowanie danych\n",
    "chars = sorted(list(set(TEXT)))\n",
    "char_to_int = {c: i for i, c in enumerate(chars)}\n",
    "int_to_char = {i: c for i, c in enumerate(chars)}\n",
    "n_chars = len(TEXT)\n",
    "n_vocab = len(chars)\n",
    "\n",
    "print(f\"Unikalne znaki: {n_vocab}\")\n",
    "print(f\"Długość tekstu: {n_chars}\")\n",
    "\n",
    "# %%\n",
    "# Tworzenie datasetu\n",
    "X = []\n",
    "y = []\n",
    "\n",
    "for i in range(0, n_chars - SEQ_LENGTH):\n",
    "    seq_in = TEXT[i:i + SEQ_LENGTH]\n",
    "    seq_out = TEXT[i + SEQ_LENGTH]\n",
    "    X.append([char_to_int[char] for char in seq_in])\n",
    "    y.append(char_to_int[seq_out])\n",
    "\n",
    "n_patterns = len(X)\n",
    "print(f\"Liczba sekwencji: {n_patterns}\")\n",
    "\n",
    "# %%\n",
    "# Przekształcenie danych do formatu Keras\n",
    "X_reshaped = np.reshape(X, (n_patterns, SEQ_LENGTH))\n",
    "y_categorical = to_categorical(y, num_classes=n_vocab)\n",
    "\n",
    "# %%\n",
    "# Budowa ulepszonego modelu\n",
    "model = Sequential()\n",
    "model.add(Embedding(n_vocab, EMBEDDING_DIM, input_length=SEQ_LENGTH))\n",
    "model.add(LSTM(LSTM_UNITS, return_sequences=True))  # Pierwsza warstwa LSTM\n",
    "model.add(LSTM(LSTM_UNITS))  # Druga warstwa LSTM\n",
    "model.add(Dense(n_vocab, activation='softmax'))\n",
    "model.compile(loss='categorical_crossentropy', optimizer='adam', metrics=['accuracy'])\n",
    "model.summary()\n",
    "\n",
    "# %%\n",
    "# Callback do zatrzymania przy osiągnięciu docelowej dokładności\n",
    "class AccuracyCallback(Callback):\n",
    "    def on_epoch_end(self, epoch, logs=None):\n",
    "        if logs.get('accuracy') >= TARGET_ACCURACY:\n",
    "            print(f\"\\nOsiągnięto docelową dokładność {TARGET_ACCURACY}!\")\n",
    "            # Kontynuuj trening do końca epoki\n",
    "            self.model.stop_training = True\n",
    "\n",
    "# Dodatkowy callback do wczesnego zatrzymania\n",
    "early_stop = EarlyStopping(\n",
    "    monitor='accuracy',\n",
    "    patience=10,\n",
    "    min_delta=0.001,\n",
    "    mode='max',\n",
    "    restore_best_weights=True\n",
    ")\n",
    "\n",
    "# %%\n",
    "# Trening modelu\n",
    "history = model.fit(\n",
    "    X_reshaped,\n",
    "    y_categorical,\n",
    "    batch_size=BATCH_SIZE,\n",
    "    epochs=EPOCHS,\n",
    "    verbose=1,\n",
    "    callbacks=[AccuracyCallback(), early_stop]\n",
    ")\n",
    "\n",
    "# %%\n",
    "# Generowanie przykładowej predykcji\n",
    "def generate_text(seed_text, num_chars=100):\n",
    "    generated = seed_text\n",
    "    print(f\"\\nGenerowanie tekstu z seedem: '{seed_text}'\")\n",
    "    \n",
    "    for i in range(num_chars):\n",
    "        x_pred = np.array([[char_to_int[c] for c in seed_text[-SEQ_LENGTH:]]])\n",
    "        prediction = model.predict(x_pred, verbose=0)\n",
    "        index = np.argmax(prediction)\n",
    "        result = int_to_char[index]\n",
    "        generated += result\n",
    "        seed_text = seed_text[1:] + result if len(seed_text) >= SEQ_LENGTH else seed_text + result\n",
    "    \n",
    "    print(generated)\n",
    "\n",
    "# Generowanie z różnych seedów\n",
    "generate_text(\"As machines become\")\n",
    "generate_text(\"tasks considered\")\n",
    "generate_text(\"AI effect\")\n",
    "\n",
    "# %%\n",
    "# Wizualizacja procesu uczenia\n",
    "import matplotlib.pyplot as plt\n",
    "\n",
    "plt.figure(figsize=(12, 5))\n",
    "plt.subplot(1, 2, 1)\n",
    "plt.plot(history.history['accuracy'])\n",
    "plt.title('Dokładność modelu')\n",
    "plt.ylabel('Dokładność')\n",
    "plt.xlabel('Epoka')\n",
    "plt.axhline(y=TARGET_ACCURACY, color='r', linestyle='--')\n",
    "\n",
    "plt.subplot(1, 2, 2)\n",
    "plt.plot(history.history['loss'])\n",
    "plt.title('Funkcja straty')\n",
    "plt.ylabel('Strata')\n",
    "plt.xlabel('Epoka')\n",
    "\n",
    "plt.tight_layout()\n",
    "plt.show()\n",
    "\n",
    "# %%\n",
    "# Ocena końcowego modelu\n",
    "loss, accuracy = model.evaluate(X_reshaped, y_categorical, verbose=0)\n",
    "print(f\"\\nKońcowa dokładność: {accuracy:.4f}\")\n",
    "print(f\"Końcowa strata: {loss:.4f}\")"
   ]
  },
  {
   "cell_type": "code",
   "execution_count": null,
   "id": "8b004e24-9aa9-453c-aa5f-b543a37e28d0",
   "metadata": {},
   "outputs": [],
   "source": []
  }
 ],
 "metadata": {
  "kernelspec": {
   "display_name": "Python 3 (ipykernel)",
   "language": "python",
   "name": "python3"
  },
  "language_info": {
   "codemirror_mode": {
    "name": "ipython",
    "version": 3
   },
   "file_extension": ".py",
   "mimetype": "text/x-python",
   "name": "python",
   "nbconvert_exporter": "python",
   "pygments_lexer": "ipython3",
   "version": "3.12.3"
  }
 },
 "nbformat": 4,
 "nbformat_minor": 5
}
